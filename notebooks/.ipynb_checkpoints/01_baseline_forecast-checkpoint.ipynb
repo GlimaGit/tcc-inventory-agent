{
 "cells": [
  {
   "cell_type": "markdown",
   "metadata": {},
   "source": [
    "\n",
    "# Baseline de Previsão de Demanda\n",
    "Este notebook implementa a primeira versão da previsão de demanda para o TCC:\n",
    "**\"Implementação de Agentes Autônomos para Otimização da Gestão de Estoque no E-commerce\"**.\n",
    "\n",
    "- Dataset: vendas sintéticas (geradas em `scripts/generate_synthetic_data.py`)\n",
    "- Algoritmo: Prophet (Meta/Facebook)\n",
    "- Objetivo: estabelecer um baseline com métricas (MAPE) e gráficos para apresentação inicial.\n"
   ]
  },
  {
   "cell_type": "code",
   "execution_count": null,
   "metadata": {},
   "outputs": [],
   "source": [
    "import pandas as pd\n",
    "import numpy as np\n",
    "import matplotlib.pyplot as plt\n",
    "from prophet import Prophet\n"
   ]
  },
  {
   "cell_type": "code",
   "execution_count": null,
   "metadata": {},
   "outputs": [],
   "source": [
    "def mape(y_true, y_pred):\n",
    "    y_true, y_pred = np.array(y_true), np.array(y_pred)\n",
    "    denom = np.where(y_true == 0, 1, y_true)  # evitar divisão por zero\n",
    "    return np.mean(np.abs((y_true - y_pred) / denom)) * 100\n"
   ]
  },
  {
   "cell_type": "code",
   "execution_count": null,
   "metadata": {},
   "outputs": [],
   "source": [
    "# Lendo dataset sintético\n",
    "df = pd.read_csv(\"../data/raw/vendas_sinteticas.csv\", parse_dates=[\"data_venda\"])\n",
    "df.head()\n"
   ]
  },
  {
   "cell_type": "code",
   "execution_count": null,
   "metadata": {},
   "outputs": [],
   "source": [
    "# Top SKU por volume de vendas\n",
    "top_sku = df.groupby(\"id_produto\")[\"quantidade_vendida\"].sum().idxmax()\n",
    "print(\"SKU selecionado:\", top_sku)\n",
    "\n",
    "sub = df[df[\"id_produto\"] == top_sku].sort_values(\"data_venda\")\n",
    "sub.plot(x=\"data_venda\", y=\"quantidade_vendida\", figsize=(10,4), title=f\"Histórico de vendas - {top_sku}\")\n",
    "plt.show()\n"
   ]
  },
  {
   "cell_type": "code",
   "execution_count": null,
   "metadata": {},
   "outputs": [],
   "source": [
    "test_h = 30  # últimos 30 dias como teste\n",
    "train = sub.iloc[:-test_h].copy()\n",
    "test  = sub.iloc[-test_h:].copy()\n",
    "\n",
    "train_ds = train.rename(columns={\"data_venda\":\"ds\",\"quantidade_vendida\":\"y\"})[[\"ds\",\"y\"]]\n"
   ]
  },
  {
   "cell_type": "code",
   "execution_count": null,
   "metadata": {},
   "outputs": [],
   "source": [
    "m = Prophet(weekly_seasonality=True, yearly_seasonality=False)\n",
    "m.fit(train_ds)\n",
    "\n",
    "future = pd.DataFrame({\"ds\": test[\"data_venda\"]})\n",
    "forecast = m.predict(future)[[\"ds\", \"yhat\"]].rename(columns={\"yhat\":\"y_pred\"})\n",
    "\n",
    "merged = test.merge(forecast, left_on=\"data_venda\", right_on=\"ds\")\n",
    "score = mape(merged[\"quantidade_vendida\"], merged[\"y_pred\"])\n",
    "print(f\"MAPE (últimos 30 dias): {score:.2f}%\")\n"
   ]
  },
  {
   "cell_type": "code",
   "execution_count": null,
   "metadata": {},
   "outputs": [],
   "source": [
    "plt.figure(figsize=(10,5))\n",
    "plt.plot(sub[\"data_venda\"], sub[\"quantidade_vendida\"], label=\"Real\")\n",
    "plt.plot(merged[\"data_venda\"], merged[\"y_pred\"], label=\"Previsão\", linestyle=\"--\")\n",
    "plt.title(f\"Previsão de Demanda - {top_sku} | MAPE={score:.1f}%\")\n",
    "plt.legend()\n",
    "plt.tight_layout()\n",
    "plt.show()\n"
   ]
  },
  {
   "cell_type": "code",
   "execution_count": null,
   "metadata": {},
   "outputs": [],
   "source": [
    "# Salvar gráfico e métrica\n",
    "plt.savefig(\"../reports/figures/baseline_prophet.png\")\n",
    "pd.DataFrame([{\"sku\": top_sku, \"mape\": score}]).to_csv(\"../reports/tables/metrics_baseline.csv\", index=False)\n"
   ]
  },
  {
   "cell_type": "markdown",
   "metadata": {},
   "source": [
    "### Conclusão Parcial\n",
    "- O Prophet capturou bem a sazonalidade semanal do SKU analisado.  \n",
    "- O MAPE obtido indica que o modelo é um baseline viável.  \n",
    "- Na próxima etapa, serão incluídas variáveis externas (ex.: promoções, feriados) e comparações com o XGBoost.  \n"
   ]
  }
 ],
 "metadata": {
  "language_info": {
   "name": "python"
  },
  "orig_nbformat": 4
 },
 "nbformat": 4,
 "nbformat_minor": 2
}
